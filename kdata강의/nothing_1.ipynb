{
 "cells": [
  {
   "cell_type": "markdown",
   "id": "685afb26",
   "metadata": {},
   "source": [
    "# float data type"
   ]
  },
  {
   "cell_type": "code",
   "execution_count": 2,
   "id": "657baee3",
   "metadata": {
    "scrolled": true
   },
   "outputs": [
    {
     "name": "stdout",
     "output_type": "stream",
     "text": [
      "314.15\n"
     ]
    }
   ],
   "source": [
    "fa = 3.1415e2\n",
    "print(fa)"
   ]
  },
  {
   "cell_type": "code",
   "execution_count": 3,
   "id": "1fb41801",
   "metadata": {},
   "outputs": [
    {
     "name": "stdout",
     "output_type": "stream",
     "text": [
      "0.031415\n"
     ]
    }
   ],
   "source": [
    "fb = 3.1415e-2\n",
    "print(fb)"
   ]
  },
  {
   "cell_type": "markdown",
   "id": "d586d240",
   "metadata": {},
   "source": [
    "# 복소수 타입"
   ]
  },
  {
   "cell_type": "code",
   "execution_count": 4,
   "id": "3fc53540",
   "metadata": {},
   "outputs": [
    {
     "name": "stdout",
     "output_type": "stream",
     "text": [
      "(4+8j)\n"
     ]
    }
   ],
   "source": [
    "a = 4 + 8j\n",
    "print(a)"
   ]
  },
  {
   "cell_type": "code",
   "execution_count": 5,
   "id": "c429dc51",
   "metadata": {},
   "outputs": [],
   "source": [
    "b = complex(6, 4)"
   ]
  },
  {
   "cell_type": "code",
   "execution_count": 6,
   "id": "80832efa",
   "metadata": {},
   "outputs": [
    {
     "name": "stdout",
     "output_type": "stream",
     "text": [
      "(6+4j)\n"
     ]
    }
   ],
   "source": [
    "print(b)"
   ]
  },
  {
   "cell_type": "code",
   "execution_count": 7,
   "id": "fa23c05a",
   "metadata": {},
   "outputs": [
    {
     "data": {
      "text/plain": [
       "4.0"
      ]
     },
     "execution_count": 7,
     "metadata": {},
     "output_type": "execute_result"
    }
   ],
   "source": [
    "# 복소수 실수부\n",
    "a.real"
   ]
  },
  {
   "cell_type": "code",
   "execution_count": 8,
   "id": "1f0059ea",
   "metadata": {},
   "outputs": [
    {
     "data": {
      "text/plain": [
       "8.0"
      ]
     },
     "execution_count": 8,
     "metadata": {},
     "output_type": "execute_result"
    }
   ],
   "source": [
    "# 복소수 허수부\n",
    "a.imag"
   ]
  },
  {
   "cell_type": "code",
   "execution_count": 9,
   "id": "f50c7871",
   "metadata": {},
   "outputs": [],
   "source": [
    "# 불린"
   ]
  },
  {
   "cell_type": "code",
   "execution_count": 10,
   "id": "db3f5365",
   "metadata": {},
   "outputs": [
    {
     "data": {
      "text/plain": [
       "True"
      ]
     },
     "execution_count": 10,
     "metadata": {},
     "output_type": "execute_result"
    }
   ],
   "source": [
    "bool('ABC')"
   ]
  },
  {
   "cell_type": "code",
   "execution_count": 11,
   "id": "9f9efc38",
   "metadata": {},
   "outputs": [
    {
     "data": {
      "text/plain": [
       "False"
      ]
     },
     "execution_count": 11,
     "metadata": {},
     "output_type": "execute_result"
    }
   ],
   "source": [
    "bool('')"
   ]
  },
  {
   "cell_type": "code",
   "execution_count": 12,
   "id": "5073c729",
   "metadata": {},
   "outputs": [
    {
     "data": {
      "text/plain": [
       "True"
      ]
     },
     "execution_count": 12,
     "metadata": {},
     "output_type": "execute_result"
    }
   ],
   "source": [
    "bool([1,2,3])"
   ]
  },
  {
   "cell_type": "code",
   "execution_count": 13,
   "id": "0eb4c892",
   "metadata": {},
   "outputs": [
    {
     "data": {
      "text/plain": [
       "False"
      ]
     },
     "execution_count": 13,
     "metadata": {},
     "output_type": "execute_result"
    }
   ],
   "source": [
    "bool([])"
   ]
  },
  {
   "cell_type": "code",
   "execution_count": 14,
   "id": "294c5564",
   "metadata": {},
   "outputs": [
    {
     "data": {
      "text/plain": [
       "False"
      ]
     },
     "execution_count": 14,
     "metadata": {},
     "output_type": "execute_result"
    }
   ],
   "source": [
    "bool()"
   ]
  },
  {
   "cell_type": "code",
   "execution_count": 15,
   "id": "d9c8ee61",
   "metadata": {},
   "outputs": [],
   "source": [
    "# 문자열"
   ]
  },
  {
   "cell_type": "code",
   "execution_count": 16,
   "id": "f0cc58e3",
   "metadata": {},
   "outputs": [
    {
     "data": {
      "text/plain": [
       "'this is a rope'"
      ]
     },
     "execution_count": 16,
     "metadata": {},
     "output_type": "execute_result"
    }
   ],
   "source": [
    "str = 'this is a string'\n",
    "b = 'rope'\n",
    "str[:10] + b"
   ]
  },
  {
   "cell_type": "code",
   "execution_count": 17,
   "id": "20c816c9",
   "metadata": {},
   "outputs": [
    {
     "name": "stdout",
     "output_type": "stream",
     "text": [
      "this is a rope\n",
      "this is a string\n"
     ]
    }
   ],
   "source": [
    "c = str.replace('string', 'rope')\n",
    "print(c)\n",
    "print(str)"
   ]
  },
  {
   "cell_type": "code",
   "execution_count": null,
   "id": "11a9478d",
   "metadata": {},
   "outputs": [],
   "source": []
  },
  {
   "cell_type": "code",
   "execution_count": null,
   "id": "070cf9a0",
   "metadata": {},
   "outputs": [],
   "source": []
  },
  {
   "cell_type": "code",
   "execution_count": 18,
   "id": "7befb234",
   "metadata": {},
   "outputs": [],
   "source": [
    "a = {'gender':'female', 'age':30, 'name':'kristina'} "
   ]
  },
  {
   "cell_type": "code",
   "execution_count": 19,
   "id": "0a7e716d",
   "metadata": {},
   "outputs": [
    {
     "data": {
      "text/plain": [
       "dict_keys(['gender', 'age', 'name'])"
      ]
     },
     "execution_count": 19,
     "metadata": {},
     "output_type": "execute_result"
    }
   ],
   "source": [
    "a.keys()"
   ]
  },
  {
   "cell_type": "code",
   "execution_count": 20,
   "id": "9b9f2761",
   "metadata": {},
   "outputs": [
    {
     "data": {
      "text/plain": [
       "['gender', 'age', 'name']"
      ]
     },
     "execution_count": 20,
     "metadata": {},
     "output_type": "execute_result"
    }
   ],
   "source": [
    "list(a.keys())"
   ]
  },
  {
   "cell_type": "code",
   "execution_count": 21,
   "id": "85fec9b1",
   "metadata": {},
   "outputs": [
    {
     "data": {
      "text/plain": [
       "dict_values(['female', 30, 'kristina'])"
      ]
     },
     "execution_count": 21,
     "metadata": {},
     "output_type": "execute_result"
    }
   ],
   "source": [
    "a.values()"
   ]
  },
  {
   "cell_type": "code",
   "execution_count": 22,
   "id": "2caf8303",
   "metadata": {},
   "outputs": [
    {
     "data": {
      "text/plain": [
       "dict_items([('gender', 'female'), ('age', 30), ('name', 'kristina')])"
      ]
     },
     "execution_count": 22,
     "metadata": {},
     "output_type": "execute_result"
    }
   ],
   "source": [
    "a.items()"
   ]
  },
  {
   "cell_type": "code",
   "execution_count": 23,
   "id": "1e9a29e6",
   "metadata": {},
   "outputs": [],
   "source": [
    "a = 'hello'\n",
    "b = 'hello'"
   ]
  },
  {
   "cell_type": "code",
   "execution_count": 24,
   "id": "34364ee7",
   "metadata": {},
   "outputs": [],
   "source": [
    "c = 'hello'"
   ]
  },
  {
   "cell_type": "code",
   "execution_count": 25,
   "id": "dc0942b4",
   "metadata": {},
   "outputs": [
    {
     "data": {
      "text/plain": [
       "True"
      ]
     },
     "execution_count": 25,
     "metadata": {},
     "output_type": "execute_result"
    }
   ],
   "source": [
    "a == c"
   ]
  },
  {
   "cell_type": "code",
   "execution_count": 26,
   "id": "b04bf8b1",
   "metadata": {},
   "outputs": [
    {
     "data": {
      "text/plain": [
       "2672720011184"
      ]
     },
     "execution_count": 26,
     "metadata": {},
     "output_type": "execute_result"
    }
   ],
   "source": [
    "id(c)"
   ]
  },
  {
   "cell_type": "code",
   "execution_count": 27,
   "id": "5a09d91a",
   "metadata": {},
   "outputs": [
    {
     "data": {
      "text/plain": [
       "2672720011184"
      ]
     },
     "execution_count": 27,
     "metadata": {},
     "output_type": "execute_result"
    }
   ],
   "source": [
    "id('hello')"
   ]
  },
  {
   "cell_type": "code",
   "execution_count": 28,
   "id": "b9cbb6a6",
   "metadata": {},
   "outputs": [
    {
     "data": {
      "text/plain": [
       "2672720011184"
      ]
     },
     "execution_count": 28,
     "metadata": {},
     "output_type": "execute_result"
    }
   ],
   "source": [
    "id('hello')"
   ]
  },
  {
   "cell_type": "code",
   "execution_count": 29,
   "id": "ef1d0c2d",
   "metadata": {},
   "outputs": [
    {
     "data": {
      "text/plain": [
       "True"
      ]
     },
     "execution_count": 29,
     "metadata": {},
     "output_type": "execute_result"
    }
   ],
   "source": [
    "id(a) == id(c)"
   ]
  },
  {
   "cell_type": "code",
   "execution_count": 30,
   "id": "6cf1e311",
   "metadata": {},
   "outputs": [
    {
     "data": {
      "text/plain": [
       "True"
      ]
     },
     "execution_count": 30,
     "metadata": {},
     "output_type": "execute_result"
    }
   ],
   "source": [
    "a == b"
   ]
  },
  {
   "cell_type": "code",
   "execution_count": 31,
   "id": "4be8988e",
   "metadata": {},
   "outputs": [
    {
     "data": {
      "text/plain": [
       "True"
      ]
     },
     "execution_count": 31,
     "metadata": {},
     "output_type": "execute_result"
    }
   ],
   "source": [
    "id(a) == id(b)"
   ]
  },
  {
   "cell_type": "code",
   "execution_count": 32,
   "id": "9ccad209",
   "metadata": {},
   "outputs": [
    {
     "data": {
      "text/plain": [
       "2672720011184"
      ]
     },
     "execution_count": 32,
     "metadata": {},
     "output_type": "execute_result"
    }
   ],
   "source": [
    "id(a)"
   ]
  },
  {
   "cell_type": "code",
   "execution_count": 33,
   "id": "223d4505",
   "metadata": {},
   "outputs": [
    {
     "data": {
      "text/plain": [
       "2672720011184"
      ]
     },
     "execution_count": 33,
     "metadata": {},
     "output_type": "execute_result"
    }
   ],
   "source": [
    "id(b)"
   ]
  },
  {
   "cell_type": "code",
   "execution_count": 34,
   "id": "abbd11e7",
   "metadata": {},
   "outputs": [],
   "source": [
    "a = [1,2,'hello']"
   ]
  },
  {
   "cell_type": "code",
   "execution_count": 35,
   "id": "ac2c02a0",
   "metadata": {},
   "outputs": [],
   "source": [
    "b = [1,2,'hello']"
   ]
  },
  {
   "cell_type": "code",
   "execution_count": 36,
   "id": "6eb396a1",
   "metadata": {},
   "outputs": [
    {
     "data": {
      "text/plain": [
       "False"
      ]
     },
     "execution_count": 36,
     "metadata": {},
     "output_type": "execute_result"
    }
   ],
   "source": [
    "id(a) == id(b)"
   ]
  },
  {
   "cell_type": "code",
   "execution_count": 37,
   "id": "f9a7b2a7",
   "metadata": {},
   "outputs": [
    {
     "data": {
      "text/plain": [
       "2672718994688"
      ]
     },
     "execution_count": 37,
     "metadata": {},
     "output_type": "execute_result"
    }
   ],
   "source": [
    "id(a)"
   ]
  },
  {
   "cell_type": "code",
   "execution_count": 38,
   "id": "387234dd",
   "metadata": {},
   "outputs": [
    {
     "data": {
      "text/plain": [
       "2672718951616"
      ]
     },
     "execution_count": 38,
     "metadata": {},
     "output_type": "execute_result"
    }
   ],
   "source": [
    "id(b)"
   ]
  },
  {
   "cell_type": "code",
   "execution_count": 39,
   "id": "55f6bd9d",
   "metadata": {},
   "outputs": [],
   "source": [
    "a = True\n",
    "b = False"
   ]
  },
  {
   "cell_type": "code",
   "execution_count": 40,
   "id": "0ffe1e2c",
   "metadata": {},
   "outputs": [
    {
     "data": {
      "text/plain": [
       "False"
      ]
     },
     "execution_count": 40,
     "metadata": {},
     "output_type": "execute_result"
    }
   ],
   "source": [
    "a and b"
   ]
  },
  {
   "cell_type": "code",
   "execution_count": 41,
   "id": "ced532a5",
   "metadata": {},
   "outputs": [
    {
     "data": {
      "text/plain": [
       "True"
      ]
     },
     "execution_count": 41,
     "metadata": {},
     "output_type": "execute_result"
    }
   ],
   "source": [
    "not(a and b)"
   ]
  },
  {
   "cell_type": "code",
   "execution_count": null,
   "id": "daa557a6",
   "metadata": {},
   "outputs": [],
   "source": []
  },
  {
   "cell_type": "code",
   "execution_count": null,
   "id": "8cfc04ba",
   "metadata": {},
   "outputs": [],
   "source": []
  },
  {
   "cell_type": "code",
   "execution_count": null,
   "id": "13e04226",
   "metadata": {},
   "outputs": [],
   "source": []
  },
  {
   "cell_type": "code",
   "execution_count": 42,
   "id": "a621a959",
   "metadata": {},
   "outputs": [
    {
     "name": "stdout",
     "output_type": "stream",
     "text": [
      "년도 입력2021\n",
      "월 입력07\n",
      "일 입력04\n"
     ]
    }
   ],
   "source": [
    "year = int(input('년도 입력'))\n",
    "month = int(input('월 입력'))\n",
    "day = int(input('일 입력'))"
   ]
  },
  {
   "cell_type": "code",
   "execution_count": 43,
   "id": "b37157ba",
   "metadata": {},
   "outputs": [],
   "source": [
    "total_days = 0"
   ]
  },
  {
   "cell_type": "code",
   "execution_count": 44,
   "id": "d7cfea3b",
   "metadata": {},
   "outputs": [],
   "source": [
    "year_month_days = [0,31,28,31,30,31,30,31,31,30,31,30,31]"
   ]
  },
  {
   "cell_type": "code",
   "execution_count": 45,
   "id": "d87439e0",
   "metadata": {},
   "outputs": [],
   "source": [
    "for item in range(1,year):\n",
    "    if item % 400 == 0:\n",
    "        total_days = total_days + 366\n",
    "    elif item % 100 == 0:\n",
    "        total_days = total_days + 365\n",
    "    elif item % 4 == 0:\n",
    "        total_days = total_days + 366\n",
    "    else:\n",
    "        total_days = total_days + 365"
   ]
  },
  {
   "cell_type": "code",
   "execution_count": 46,
   "id": "13b0d297",
   "metadata": {},
   "outputs": [],
   "source": [
    "for item in range (1, month):\n",
    "    total_days = total_days + year_month_days[item]"
   ]
  },
  {
   "cell_type": "code",
   "execution_count": 47,
   "id": "eb37e470",
   "metadata": {},
   "outputs": [],
   "source": [
    "if month >= 3:\n",
    "    if year % 400 == 0:\n",
    "        total_days += 1\n",
    "    elif year % 100 == 0:\n",
    "        total_days += 0\n",
    "    elif year % 100 == 0:\n",
    "        total_days += 1\n",
    "    else:\n",
    "        total_days += 0"
   ]
  },
  {
   "cell_type": "code",
   "execution_count": 48,
   "id": "f0c9370b",
   "metadata": {},
   "outputs": [],
   "source": [
    "total_days += day"
   ]
  },
  {
   "cell_type": "code",
   "execution_count": 49,
   "id": "61212b6e",
   "metadata": {},
   "outputs": [
    {
     "data": {
      "text/plain": [
       "737975"
      ]
     },
     "execution_count": 49,
     "metadata": {},
     "output_type": "execute_result"
    }
   ],
   "source": [
    "total_days"
   ]
  },
  {
   "cell_type": "code",
   "execution_count": 50,
   "id": "303ec6d0",
   "metadata": {},
   "outputs": [],
   "source": [
    "remainder = total_days % 7"
   ]
  },
  {
   "cell_type": "code",
   "execution_count": 51,
   "id": "d4b85283",
   "metadata": {},
   "outputs": [
    {
     "name": "stdout",
     "output_type": "stream",
     "text": [
      "일요일\n"
     ]
    }
   ],
   "source": [
    "if remainder == 0:\n",
    "    print('일요일')\n",
    "elif remainder == 1:\n",
    "    print('월요일')\n",
    "elif remainder == 2:\n",
    "    print('화요일')\n",
    "elif remainder == 3:\n",
    "    print('수요일')\n",
    "elif reaminder == 4:\n",
    "    print('목요일')\n",
    "elif remainder == 5:\n",
    "    print('금요일')\n",
    "elif remainder == 6:\n",
    "    print('토요일')"
   ]
  },
  {
   "cell_type": "code",
   "execution_count": null,
   "id": "14126ae3",
   "metadata": {},
   "outputs": [],
   "source": []
  },
  {
   "cell_type": "code",
   "execution_count": 52,
   "id": "e33b815b",
   "metadata": {},
   "outputs": [],
   "source": [
    "def add(a, b):\n",
    "    return a%b"
   ]
  },
  {
   "cell_type": "code",
   "execution_count": 55,
   "id": "0ce4be21",
   "metadata": {},
   "outputs": [
    {
     "name": "stdout",
     "output_type": "stream",
     "text": [
      "9\n"
     ]
    }
   ],
   "source": [
    "print(add(b=10, a=9))"
   ]
  },
  {
   "cell_type": "code",
   "execution_count": 58,
   "id": "1b35088d",
   "metadata": {},
   "outputs": [
    {
     "name": "stdout",
     "output_type": "stream",
     "text": [
      "1\n"
     ]
    }
   ],
   "source": [
    "print(add(10, 9))"
   ]
  },
  {
   "cell_type": "code",
   "execution_count": 65,
   "id": "dd19df43",
   "metadata": {},
   "outputs": [],
   "source": [
    "def abcd(*args):\n",
    "    result = 0\n",
    "    for i in args:\n",
    "        result = result + i\n",
    "    return result"
   ]
  },
  {
   "cell_type": "code",
   "execution_count": 66,
   "id": "4aeb7895",
   "metadata": {},
   "outputs": [
    {
     "name": "stdout",
     "output_type": "stream",
     "text": [
      "15\n"
     ]
    }
   ],
   "source": [
    "print(abcd(1,2,3,4,5))"
   ]
  },
  {
   "cell_type": "code",
   "execution_count": 67,
   "id": "23b408c5",
   "metadata": {},
   "outputs": [],
   "source": [
    "def abc(a, *args):\n",
    "    if a == 'cute':\n",
    "        x = 0\n",
    "        for i in args:\n",
    "            x = x + i\n",
    "    elif a == 'pretty':\n",
    "        x = 1\n",
    "        for i in args:\n",
    "            x = x * i\n",
    "    return x    "
   ]
  },
  {
   "cell_type": "code",
   "execution_count": 68,
   "id": "af62ac23",
   "metadata": {},
   "outputs": [],
   "source": [
    "x = abc('cute', 1, 2, 3, 4, 5)"
   ]
  },
  {
   "cell_type": "code",
   "execution_count": 69,
   "id": "9e203049",
   "metadata": {},
   "outputs": [
    {
     "name": "stdout",
     "output_type": "stream",
     "text": [
      "15\n"
     ]
    }
   ],
   "source": [
    "print(x)"
   ]
  },
  {
   "cell_type": "code",
   "execution_count": 72,
   "id": "2faea467",
   "metadata": {},
   "outputs": [
    {
     "name": "stdout",
     "output_type": "stream",
     "text": [
      "120\n"
     ]
    }
   ],
   "source": [
    "print(abc('pretty', 1, 2, 3, 4, 5))"
   ]
  },
  {
   "cell_type": "code",
   "execution_count": null,
   "id": "37dffe04",
   "metadata": {},
   "outputs": [],
   "source": []
  },
  {
   "cell_type": "code",
   "execution_count": 73,
   "id": "a4834ec3",
   "metadata": {},
   "outputs": [],
   "source": [
    "def abe(**kwargs):\n",
    "    print(kwargs)"
   ]
  },
  {
   "cell_type": "code",
   "execution_count": 74,
   "id": "74103254",
   "metadata": {},
   "outputs": [
    {
     "name": "stdout",
     "output_type": "stream",
     "text": [
      "{'a': 10}\n"
     ]
    }
   ],
   "source": [
    "abe(a = 10)"
   ]
  },
  {
   "cell_type": "code",
   "execution_count": 75,
   "id": "85a563db",
   "metadata": {},
   "outputs": [
    {
     "name": "stdout",
     "output_type": "stream",
     "text": [
      "{'num': 1, 'name': 'krisina', 'age': 39}\n"
     ]
    }
   ],
   "source": [
    "abe(num = 1, name = 'krisina', age = 39)"
   ]
  },
  {
   "cell_type": "code",
   "execution_count": null,
   "id": "b4eb3337",
   "metadata": {},
   "outputs": [],
   "source": []
  },
  {
   "cell_type": "code",
   "execution_count": 76,
   "id": "a7170951",
   "metadata": {},
   "outputs": [],
   "source": [
    "def ace(a, b):\n",
    "    return a + b, a *b"
   ]
  },
  {
   "cell_type": "code",
   "execution_count": 77,
   "id": "5ddcb00b",
   "metadata": {},
   "outputs": [],
   "source": [
    "x = ace(9, 10)"
   ]
  },
  {
   "cell_type": "code",
   "execution_count": 78,
   "id": "8ea6ab47",
   "metadata": {},
   "outputs": [
    {
     "name": "stdout",
     "output_type": "stream",
     "text": [
      "(19, 90)\n"
     ]
    }
   ],
   "source": [
    "print(x) # 튜플"
   ]
  },
  {
   "cell_type": "code",
   "execution_count": 79,
   "id": "9d7724a6",
   "metadata": {},
   "outputs": [],
   "source": [
    "x1, x2 = ace(9, 10)"
   ]
  },
  {
   "cell_type": "code",
   "execution_count": 80,
   "id": "fd7c94b0",
   "metadata": {},
   "outputs": [
    {
     "name": "stdout",
     "output_type": "stream",
     "text": [
      "19\n",
      "90\n"
     ]
    }
   ],
   "source": [
    "print(x1)\n",
    "print(x2)"
   ]
  },
  {
   "cell_type": "code",
   "execution_count": null,
   "id": "cbc54823",
   "metadata": {},
   "outputs": [],
   "source": []
  },
  {
   "cell_type": "markdown",
   "id": "f17ab305",
   "metadata": {},
   "source": [
    "# call by value"
   ]
  },
  {
   "cell_type": "code",
   "execution_count": 81,
   "id": "625e5e7a",
   "metadata": {},
   "outputs": [],
   "source": [
    "def abcd(k):\n",
    "    k = k+1\n",
    "    return k"
   ]
  },
  {
   "cell_type": "code",
   "execution_count": 82,
   "id": "c589ed55",
   "metadata": {},
   "outputs": [
    {
     "name": "stdout",
     "output_type": "stream",
     "text": [
      "2\n"
     ]
    }
   ],
   "source": [
    "k = 1\n",
    "k = abcd(k)\n",
    "print(k)"
   ]
  },
  {
   "cell_type": "code",
   "execution_count": null,
   "id": "51703f64",
   "metadata": {},
   "outputs": [],
   "source": []
  },
  {
   "cell_type": "markdown",
   "id": "d4731773",
   "metadata": {},
   "source": [
    "# 전역변수"
   ]
  },
  {
   "cell_type": "code",
   "execution_count": 83,
   "id": "ce6f823d",
   "metadata": {},
   "outputs": [],
   "source": [
    "k = 1\n",
    "def abcd():\n",
    "    global k\n",
    "    k = k +1"
   ]
  },
  {
   "cell_type": "code",
   "execution_count": 84,
   "id": "d80e3268",
   "metadata": {},
   "outputs": [
    {
     "name": "stdout",
     "output_type": "stream",
     "text": [
      "2\n"
     ]
    }
   ],
   "source": [
    "abcd()\n",
    "print(k)"
   ]
  },
  {
   "cell_type": "markdown",
   "id": "c8777b3c",
   "metadata": {},
   "source": [
    "# lambda"
   ]
  },
  {
   "cell_type": "code",
   "execution_count": 85,
   "id": "4c001b76",
   "metadata": {},
   "outputs": [],
   "source": [
    "abcd = lambda a, b : a + b"
   ]
  },
  {
   "cell_type": "code",
   "execution_count": 86,
   "id": "84d1df4a",
   "metadata": {},
   "outputs": [],
   "source": [
    "result = abcd(9, 10)"
   ]
  },
  {
   "cell_type": "code",
   "execution_count": 87,
   "id": "385b42e5",
   "metadata": {},
   "outputs": [
    {
     "name": "stdout",
     "output_type": "stream",
     "text": [
      "19\n"
     ]
    }
   ],
   "source": [
    "print(result)"
   ]
  },
  {
   "cell_type": "code",
   "execution_count": null,
   "id": "194c3ff1",
   "metadata": {},
   "outputs": [],
   "source": []
  },
  {
   "cell_type": "code",
   "execution_count": null,
   "id": "edde3c9b",
   "metadata": {},
   "outputs": [],
   "source": []
  },
  {
   "cell_type": "code",
   "execution_count": null,
   "id": "4b590526",
   "metadata": {},
   "outputs": [],
   "source": []
  }
 ],
 "metadata": {
  "kernelspec": {
   "display_name": "Python 3",
   "language": "python",
   "name": "python3"
  },
  "language_info": {
   "codemirror_mode": {
    "name": "ipython",
    "version": 3
   },
   "file_extension": ".py",
   "mimetype": "text/x-python",
   "name": "python",
   "nbconvert_exporter": "python",
   "pygments_lexer": "ipython3",
   "version": "3.8.8"
  }
 },
 "nbformat": 4,
 "nbformat_minor": 5
}
