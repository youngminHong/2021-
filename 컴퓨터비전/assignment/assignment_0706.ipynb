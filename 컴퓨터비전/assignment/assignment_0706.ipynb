{
 "cells": [
  {
   "cell_type": "code",
   "execution_count": 1,
   "metadata": {},
   "outputs": [],
   "source": [
    "import numpy as np\n",
    "import random\n",
    "import matplotlib.pyplot as plt\n",
    "from sympy import Integral, Symbol"
   ]
  },
  {
   "cell_type": "code",
   "execution_count": 2,
   "metadata": {
    "scrolled": false
   },
   "outputs": [
    {
     "name": "stdout",
     "output_type": "stream",
     "text": [
      "0.0146976849126223\n"
     ]
    },
    {
     "data": {
      "image/png": "[encoded data removed]",
      "text/plain": [
       "<Figure size 432x288 with 1 Axes>"
      ]
     },
     "metadata": {
      "needs_background": "light"
     },
     "output_type": "display_data"
    },
    {
     "data": {
      "image/png": "[encoded data removed]",
      "text/plain": [
       "<Figure size 432x288 with 1 Axes>"
      ]
     },
     "metadata": {
      "needs_background": "light"
     },
     "output_type": "display_data"
    }
   ],
   "source": [
    "pt = [[-2.9, 35.4],[-2.1, 19.7],[-0.9, 5.7],[0.1, 1.2],[1.1, 2.1],[1.9, 8.7],[3.1, 25.7],[4.0, 41.5]]\n",
    "x1=[]\n",
    "y1=[]\n",
    "for i in range(8):\n",
    "    x1.append(pt[i][0])\n",
    "    y1.append(pt[i][1])\n",
    "a, b, c = np.polyfit(x1, y1, 2)\n",
    "\n",
    "x3 = []\n",
    "y3 = []\n",
    "\n",
    "res_list = []\n",
    "sam_list = []\n",
    "for i in range(8):\n",
    "    for j in range(7):\n",
    "        pt = [[-2.9, 35.4],[-2.1, 19.7],[-0.9, 5.7],[0.1, 1.2],[1.1, 2.1],[1.9, 8.7],[3.1, 25.7],[4.0, 41.5]]\n",
    "        if j >= i:\n",
    "            del pt[i]\n",
    "            del pt[j]\n",
    "            sam_list.append(pt)\n",
    "            #x3.append(pt)\n",
    "            #y3.append(pt)   \n",
    "            #a_2, b_2, c_2 = np.polyfit(x3, y3, 2)\n",
    "            #print(a_, b_, c_)\n",
    "            \n",
    "min = [1000, 0]\n",
    "\n",
    "for i in range(28):\n",
    "    x2 = []\n",
    "    y2 = []\n",
    "    for j in range(6):\n",
    "        x2.append(sam_list[i][j][0])\n",
    "        y2.append(sam_list[i][j][1])\n",
    "    a_, b_, c_ = np.polyfit(x2, y2, 2)\n",
    "    x = Symbol('x')\n",
    "    f = (a*x**2 + b*x + c - a_*x**2 - b_*x - c_)**2\n",
    "    area = Integral(f, (x, -2.9, 4)).doit().evalf()\n",
    "    if area < min[0]:\n",
    "        min[0] = area\n",
    "        min[1] = i\n",
    "        a_sample = a_\n",
    "        b_sample = b_\n",
    "        c_sample = c_\n",
    "#        print(a, b, c)\n",
    "#        print(a_, b_, c_)\n",
    "#        print(area)\n",
    "print(min[0])\n",
    "\n",
    "x2 = []\n",
    "y2 = []\n",
    "for i in range(6):\n",
    "    x2.append(sam_list[min[1]][i][0])\n",
    "    y2.append(sam_list[min[1]][i][1])\n",
    "\n",
    "\n",
    "fit_x1 = np.arange(-3,4,0.1)\n",
    "fit_y1 = a*fit_x1**2 + b*fit_x1 + c\n",
    "plt.subplot(2,1,1)\n",
    "plt.scatter(x1,y1, c = 'black', s= 100)\n",
    "plt.plot(fit_x1, fit_y1)\n",
    "plt.title(f\"{a}x^2 + {b}x + {c}\")\n",
    "plt.show()\n",
    "\n",
    "fit_x2 = np.arange(-3,4,0.1)\n",
    "fit_y2 = a_sample*fit_x2**2 + b_sample*fit_x2 + c_sample\n",
    "plt.subplot(2,1,2)\n",
    "plt.scatter(x2,y2, c = 'black', s= 100)\n",
    "plt.plot(fit_x2, fit_y2)\n",
    "plt.title(f\"{a_sample}x^2 + {b_sample}x + {c_sample}\")\n",
    "\n",
    "plt.show()\n",
    "\n"
   ]
  },
  {
   "cell_type": "code",
   "execution_count": null,
   "metadata": {},
   "outputs": [],
   "source": []
  }
 ],
 "metadata": {
  "kernelspec": {
   "display_name": "Python 3",
   "language": "python",
   "name": "python3"
  },
  "language_info": {
   "codemirror_mode": {
    "name": "ipython",
    "version": 3
   },
   "file_extension": ".py",
   "mimetype": "text/x-python",
   "name": "python",
   "nbconvert_exporter": "python",
   "pygments_lexer": "ipython3",
   "version": "3.8.8"
  },
  "toc": {
   "base_numbering": 1,
   "nav_menu": {},
   "number_sections": true,
   "sideBar": true,
   "skip_h1_title": false,
   "title_cell": "Table of Contents",
   "title_sidebar": "Contents",
   "toc_cell": false,
   "toc_position": {},
   "toc_section_display": true,
   "toc_window_display": false
  },
  "varInspector": {
   "cols": {
    "lenName": 16,
    "lenType": 16,
    "lenVar": 40
   },
   "kernels_config": {
    "python": {
     "delete_cmd_postfix": "",
     "delete_cmd_prefix": "del ",
     "library": "var_list.py",
     "varRefreshCmd": "print(var_dic_list())"
    },
    "r": {
     "delete_cmd_postfix": ") ",
     "delete_cmd_prefix": "rm(",
     "library": "var_list.r",
     "varRefreshCmd": "cat(var_dic_list()) "
    }
   },
   "types_to_exclude": [
    "module",
    "function",
    "builtin_function_or_method",
    "instance",
    "_Feature"
   ],
   "window_display": false
  }
 },
 "nbformat": 4,
 "nbformat_minor": 4
}
