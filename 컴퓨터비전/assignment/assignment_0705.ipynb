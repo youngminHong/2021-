{
 "cells": [
  {
   "cell_type": "code",
   "execution_count": 1,
   "id": "8f4ef223",
   "metadata": {},
   "outputs": [],
   "source": [
    "import cv2\n",
    "import numpy as np\n",
    "import matplotlib.pylab as plt"
   ]
  },
  {
   "cell_type": "code",
   "execution_count": 2,
   "id": "d3171bdf",
   "metadata": {},
   "outputs": [],
   "source": [
    "img = cv2.imread(\"data/minion.jpg\")"
   ]
  },
  {
   "cell_type": "code",
   "execution_count": 3,
   "id": "48b36837",
   "metadata": {},
   "outputs": [],
   "source": [
    "# hsv 컬러 형태로 변형합니다.\n",
    "hsv = cv2.cvtColor(img, cv2.COLOR_BGR2HSV)\n",
    "# h, s, v로 컬러 영상을 분리 합니다. \n",
    "h, s, v = cv2.split(hsv)\n",
    "# v값을 히스토그램 평활화를 합니다.\n",
    "equalizedV = cv2.equalizeHist(v)\n",
    "equalizedS = cv2.equalizeHist(s)\n",
    "equalizedH = cv2.equalizeHist(h)\n",
    "# h,s,equalizedV를 합쳐서 새로운 hsv 이미지를 만듭니다.\n",
    "hsv1 = cv2.merge([h,s,equalizedV])\n",
    "hsv2 = cv2.merge([h,equalizedS,equalizedV])\n",
    "hsv3 = cv2.merge([equalizedH,equalizedS,equalizedV])\n",
    "# 마지막으로 hsv2를 다시 BGR 형태로 변경합니다.\n",
    "hsvDst1 = cv2.cvtColor(hsv1, cv2.COLOR_HSV2BGR)\n",
    "hsvDst2 = cv2.cvtColor(hsv2, cv2.COLOR_HSV2BGR)\n",
    "hsvDst3 = cv2.cvtColor(hsv3, cv2.COLOR_HSV2BGR)"
   ]
  },
  {
   "cell_type": "code",
   "execution_count": null,
   "id": "44ec8057",
   "metadata": {},
   "outputs": [],
   "source": [
    "a=cv2.hconcat([img, hsvDst1])\n",
    "b=cv2.hconcat([hsvDst2,hsvDst3])\n",
    "final=cv2.vconcat([a,b])\n",
    "cv2.imshow('final dst', final)\n",
    "cv2.waitKey()\n",
    "cv2.destroyAllWindows()"
   ]
  },
  {
   "cell_type": "code",
   "execution_count": null,
   "id": "9498ae1d",
   "metadata": {},
   "outputs": [],
   "source": [
    "channels = cv2.split(hsvDst1)\n",
    "colors = ('b', 'g', 'r')\n",
    "for (ch, color) in zip (channels, colors):\n",
    "    hist = cv2.calcHist([ch], [0], None, [256], [0, 256])\n",
    "    plt.plot(hist, color = color)\n",
    "plt.show()"
   ]
  },
  {
   "cell_type": "code",
   "execution_count": null,
   "id": "d6961275",
   "metadata": {},
   "outputs": [],
   "source": [
    "channels = cv2.split(hsvDst2)\n",
    "colors = ('b', 'g', 'r')\n",
    "for (ch, color) in zip (channels, colors):\n",
    "    hist = cv2.calcHist([ch], [0], None, [256], [0, 256])\n",
    "    plt.plot(hist, color = color)\n",
    "plt.show()"
   ]
  },
  {
   "cell_type": "code",
   "execution_count": null,
   "id": "f813440a",
   "metadata": {},
   "outputs": [],
   "source": [
    "channels = cv2.split(hsvDst3)\n",
    "colors = ('b', 'g', 'r')\n",
    "for (ch, color) in zip (channels, colors):\n",
    "    hist = cv2.calcHist([ch], [0], None, [256], [0, 256])\n",
    "    plt.plot(hist, color = color)\n",
    "plt.show()"
   ]
  },
  {
   "cell_type": "code",
   "execution_count": null,
   "id": "a835cc86",
   "metadata": {},
   "outputs": [],
   "source": []
  }
 ],
 "metadata": {
  "kernelspec": {
   "display_name": "Python 3",
   "language": "python",
   "name": "python3"
  },
  "language_info": {
   "codemirror_mode": {
    "name": "ipython",
    "version": 3
   },
   "file_extension": ".py",
   "mimetype": "text/x-python",
   "name": "python",
   "nbconvert_exporter": "python",
   "pygments_lexer": "ipython3",
   "version": "3.8.8"
  }
 },
 "nbformat": 4,
 "nbformat_minor": 5
}
