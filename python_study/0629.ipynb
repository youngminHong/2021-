{
 "cells": [
  {
   "cell_type": "code",
   "execution_count": 473,
   "id": "26ea7fa9",
   "metadata": {},
   "outputs": [
    {
     "name": "stdout",
     "output_type": "stream",
     "text": [
      "my name is hong age = 20\n"
     ]
    }
   ],
   "source": [
    "age = 20\n",
    "name = 'hong'\n",
    "\n",
    "print(f'my name is {name} age = {age}')"
   ]
  },
  {
   "cell_type": "code",
   "execution_count": 474,
   "id": "1e6be4d9",
   "metadata": {},
   "outputs": [
    {
     "name": "stdout",
     "output_type": "stream",
     "text": [
      "<class 'list'>\n"
     ]
    }
   ],
   "source": [
    "a = 'lif,e is t,oo sh,ort'\n",
    "li = a.split(',')\n",
    "print(type(li))"
   ]
  },
  {
   "cell_type": "code",
   "execution_count": 475,
   "id": "0ecf44f9",
   "metadata": {},
   "outputs": [
    {
     "name": "stdout",
     "output_type": "stream",
     "text": [
      "['lif', 'e is t', 'oo sh', 'ort']\n"
     ]
    }
   ],
   "source": [
    "print(li)"
   ]
  },
  {
   "cell_type": "code",
   "execution_count": 476,
   "id": "12e9fe07",
   "metadata": {},
   "outputs": [],
   "source": [
    "a = [1, 2, 'abc', [3, 4, 'list']]"
   ]
  },
  {
   "cell_type": "code",
   "execution_count": 477,
   "id": "91c3b1c7",
   "metadata": {},
   "outputs": [
    {
     "name": "stdout",
     "output_type": "stream",
     "text": [
      "list\n",
      "list\n"
     ]
    }
   ],
   "source": [
    "print(a[3][2])\n",
    "print(a[-1][2])"
   ]
  },
  {
   "cell_type": "code",
   "execution_count": 478,
   "id": "1b1bf2cb",
   "metadata": {},
   "outputs": [
    {
     "name": "stdout",
     "output_type": "stream",
     "text": [
      "[]\n"
     ]
    }
   ],
   "source": [
    "b = []\n",
    "print(b)"
   ]
  },
  {
   "cell_type": "code",
   "execution_count": 479,
   "id": "a28e2458",
   "metadata": {},
   "outputs": [
    {
     "name": "stdout",
     "output_type": "stream",
     "text": [
      "[1, 2, 'abc', [3, 4, 'list'], 1, 2, 'abc', [3, 4, 'list'], 1, 2, 'abc', [3, 4, 'list']]\n",
      "['lif', 'e is t', 'oo sh', 'ort', 'lif', 'e is t', 'oo sh', 'ort']\n"
     ]
    }
   ],
   "source": [
    "b = 'python'\n",
    "print(a*3)\n",
    "print(li * 2)"
   ]
  },
  {
   "cell_type": "code",
   "execution_count": 480,
   "id": "f2cff79b",
   "metadata": {},
   "outputs": [
    {
     "name": "stdout",
     "output_type": "stream",
     "text": [
      "['lif', 'li', 'oo sh', 'ort']\n"
     ]
    }
   ],
   "source": [
    "li[1] = 'li'\n",
    "print(li)"
   ]
  },
  {
   "cell_type": "code",
   "execution_count": 481,
   "id": "aba7024d",
   "metadata": {},
   "outputs": [
    {
     "name": "stdout",
     "output_type": "stream",
     "text": [
      "['lif', 'li', 'ort']\n"
     ]
    }
   ],
   "source": [
    "del li[2]\n",
    "print(li)"
   ]
  },
  {
   "cell_type": "code",
   "execution_count": 482,
   "id": "b85ca5c3",
   "metadata": {},
   "outputs": [
    {
     "name": "stdout",
     "output_type": "stream",
     "text": [
      "['lif', 'ort']\n"
     ]
    }
   ],
   "source": [
    "li.remove('li')\n",
    "print(li)"
   ]
  },
  {
   "cell_type": "code",
   "execution_count": 483,
   "id": "9e9882e8",
   "metadata": {},
   "outputs": [
    {
     "name": "stdout",
     "output_type": "stream",
     "text": [
      "[1, 2, 'abc', [3, 4, 'list']]\n"
     ]
    }
   ],
   "source": [
    "print(a)"
   ]
  },
  {
   "cell_type": "code",
   "execution_count": 484,
   "id": "951433cd",
   "metadata": {},
   "outputs": [
    {
     "data": {
      "text/plain": [
       "[1, 2, 'abc', [3, 4, 'list'], ['g', 'h'], 'd']"
      ]
     },
     "execution_count": 484,
     "metadata": {},
     "output_type": "execute_result"
    }
   ],
   "source": [
    "a.append(['g', 'h'])\n",
    "a.append('d')\n",
    "a"
   ]
  },
  {
   "cell_type": "code",
   "execution_count": 485,
   "id": "47943ff8",
   "metadata": {},
   "outputs": [
    {
     "data": {
      "text/plain": [
       "[1, 2, 'abc', [3, 4, 'list'], ['g', 'h'], 'd', 'g', 'h']"
      ]
     },
     "execution_count": 485,
     "metadata": {},
     "output_type": "execute_result"
    }
   ],
   "source": [
    "a.extend(['g', 'h'])\n",
    "a"
   ]
  },
  {
   "cell_type": "code",
   "execution_count": 486,
   "id": "887770fb",
   "metadata": {},
   "outputs": [],
   "source": [
    "tu1 = 1,\n",
    "tu2 = (1, 2, 3)"
   ]
  },
  {
   "cell_type": "code",
   "execution_count": 487,
   "id": "71a93a4d",
   "metadata": {},
   "outputs": [
    {
     "name": "stdout",
     "output_type": "stream",
     "text": [
      "<class 'tuple'>\n",
      "<class 'tuple'>\n"
     ]
    }
   ],
   "source": [
    "print(type(tu1))\n",
    "print(type(tu2))"
   ]
  },
  {
   "cell_type": "code",
   "execution_count": 488,
   "id": "45cb0e9e",
   "metadata": {},
   "outputs": [
    {
     "name": "stdout",
     "output_type": "stream",
     "text": [
      "{'a': 123, 1: 'school', (2, 3): 'python'}\n"
     ]
    }
   ],
   "source": [
    "dic = {'a':123, 1:'school', (2, 3):'python'}\n",
    "print(dic)"
   ]
  },
  {
   "cell_type": "code",
   "execution_count": 489,
   "id": "1477758a",
   "metadata": {},
   "outputs": [
    {
     "name": "stdout",
     "output_type": "stream",
     "text": [
      "python\n"
     ]
    }
   ],
   "source": [
    "print(dic[2, 3])"
   ]
  },
  {
   "cell_type": "code",
   "execution_count": 490,
   "id": "442283bb",
   "metadata": {},
   "outputs": [
    {
     "name": "stdout",
     "output_type": "stream",
     "text": [
      "{'a': 123, 1: 'school', (2, 3): 'python', 123: 'abcd'}\n"
     ]
    }
   ],
   "source": [
    "dic[123] = 'abcd'\n",
    "print(dic)"
   ]
  },
  {
   "cell_type": "code",
   "execution_count": 491,
   "id": "f7dd5160",
   "metadata": {},
   "outputs": [
    {
     "name": "stdout",
     "output_type": "stream",
     "text": [
      "{1: 'school', (2, 3): 'python', 123: 'abcd'}\n"
     ]
    }
   ],
   "source": [
    "del dic['a']\n",
    "print(dic)"
   ]
  },
  {
   "cell_type": "code",
   "execution_count": 492,
   "id": "511808bf",
   "metadata": {},
   "outputs": [
    {
     "data": {
      "text/plain": [
       "dict_values(['school', 'python', 'abcd'])"
      ]
     },
     "execution_count": 492,
     "metadata": {},
     "output_type": "execute_result"
    }
   ],
   "source": [
    "dic.values()"
   ]
  },
  {
   "cell_type": "code",
   "execution_count": 493,
   "id": "6af13e56",
   "metadata": {},
   "outputs": [
    {
     "data": {
      "text/plain": [
       "False"
      ]
     },
     "execution_count": 493,
     "metadata": {},
     "output_type": "execute_result"
    }
   ],
   "source": [
    "0 in dic"
   ]
  },
  {
   "cell_type": "code",
   "execution_count": 494,
   "id": "370c7f63",
   "metadata": {},
   "outputs": [
    {
     "data": {
      "text/plain": [
       "True"
      ]
     },
     "execution_count": 494,
     "metadata": {},
     "output_type": "execute_result"
    }
   ],
   "source": [
    "1 in dic"
   ]
  },
  {
   "cell_type": "code",
   "execution_count": 495,
   "id": "35c618e8",
   "metadata": {},
   "outputs": [
    {
     "data": {
      "text/plain": [
       "'school'"
      ]
     },
     "execution_count": 495,
     "metadata": {},
     "output_type": "execute_result"
    }
   ],
   "source": [
    "dic.get(1)"
   ]
  },
  {
   "cell_type": "code",
   "execution_count": 496,
   "id": "fbd0c0bc",
   "metadata": {},
   "outputs": [
    {
     "data": {
      "text/plain": [
       "str"
      ]
     },
     "execution_count": 496,
     "metadata": {},
     "output_type": "execute_result"
    }
   ],
   "source": [
    "type(dic.get(0, 'not key'))"
   ]
  },
  {
   "cell_type": "code",
   "execution_count": 497,
   "id": "5708162c",
   "metadata": {},
   "outputs": [
    {
     "name": "stdout",
     "output_type": "stream",
     "text": [
      "140705982916400\n",
      "140705982916400\n",
      "2030697839616\n",
      "140705982916432\n",
      "140705982916400\n",
      "140705982916432\n",
      "140705982916432\n",
      "True\n"
     ]
    }
   ],
   "source": [
    "a = 1\n",
    "b = a\n",
    "c = [1, 2, 3]\n",
    "d = a + 1\n",
    "print(id(a))\n",
    "print(id(b))\n",
    "print(id(c))\n",
    "print(id(d))\n",
    "print(id(1))\n",
    "print(id(2))\n",
    "print(id(c[1]))\n",
    "print(a is b)"
   ]
  },
  {
   "cell_type": "code",
   "execution_count": 498,
   "id": "d7e8e328",
   "metadata": {},
   "outputs": [
    {
     "name": "stdout",
     "output_type": "stream",
     "text": [
      "1\n"
     ]
    }
   ],
   "source": [
    "print(a)"
   ]
  },
  {
   "cell_type": "code",
   "execution_count": 499,
   "id": "3eab50e3",
   "metadata": {},
   "outputs": [
    {
     "name": "stdout",
     "output_type": "stream",
     "text": [
      "python\n"
     ]
    }
   ],
   "source": [
    "a = 'python'\n",
    "print(a)"
   ]
  },
  {
   "cell_type": "code",
   "execution_count": 500,
   "id": "1b21aa5f",
   "metadata": {},
   "outputs": [
    {
     "name": "stdout",
     "output_type": "stream",
     "text": [
      "a,b,c,d\n",
      "a b c d\n",
      "abcd\n",
      "a b c d a b c d\n"
     ]
    }
   ],
   "source": [
    "print('a', 'b', 'c', 'd', sep = ',')\n",
    "print('a', 'b', 'c', 'd')\n",
    "print('abcd', sep = ',')\n",
    "print('a', 'b', 'c', 'd', end = ' ')\n",
    "print('a', 'b', 'c', 'd')"
   ]
  },
  {
   "cell_type": "code",
   "execution_count": 501,
   "id": "b49e63e8",
   "metadata": {},
   "outputs": [
    {
     "name": "stdout",
     "output_type": "stream",
     "text": [
      "실수3.14 정수20\n"
     ]
    }
   ],
   "source": [
    "print('실수{0} 정수{1}' .format(3.14, 20))"
   ]
  },
  {
   "cell_type": "code",
   "execution_count": 502,
   "id": "7bf5c3a5",
   "metadata": {},
   "outputs": [
    {
     "name": "stdout",
     "output_type": "stream",
     "text": [
      "2030702305456\n",
      "2030701852592\n",
      "2030702305456\n",
      "140705982916400\n",
      "140705982916400\n"
     ]
    }
   ],
   "source": [
    "a = 'hello world'\n",
    "b = 'hello world'\n",
    "c = a\n",
    "\n",
    "print(id(a))\n",
    "print(id(b))\n",
    "print(id(c))\n",
    "\n",
    "a = 1\n",
    "b = 1\n",
    "\n",
    "print(id(a))\n",
    "print(id(b))\n",
    "\n",
    "# 만약 변수 선언이 id를 가리키는 포인터 변수 개념이면, 역참조하여 값 건드릴 수 있는가?\n",
    "# 매번 객체가 새롭게 new String 되는것인가?"
   ]
  },
  {
   "cell_type": "code",
   "execution_count": 503,
   "id": "5f61dee4",
   "metadata": {},
   "outputs": [
    {
     "data": {
      "text/plain": [
       "2030697841264"
      ]
     },
     "execution_count": 503,
     "metadata": {},
     "output_type": "execute_result"
    }
   ],
   "source": [
    "id(\"\"\"hello world\"\"\")"
   ]
  },
  {
   "cell_type": "code",
   "execution_count": 504,
   "id": "b0155137",
   "metadata": {},
   "outputs": [
    {
     "name": "stdout",
     "output_type": "stream",
     "text": [
      "140705982916400\n",
      "2030702318448\n"
     ]
    }
   ],
   "source": [
    "x = 1\n",
    "print(id(x))\n",
    "x = 'hello'\n",
    "print(id(x))"
   ]
  },
  {
   "cell_type": "code",
   "execution_count": 505,
   "id": "101fc75e",
   "metadata": {},
   "outputs": [
    {
     "data": {
      "text/plain": [
       "False"
      ]
     },
     "execution_count": 505,
     "metadata": {},
     "output_type": "execute_result"
    }
   ],
   "source": [
    "a = ['paper', 'coin', 'phone']\n",
    "'paper' not in a "
   ]
  },
  {
   "cell_type": "code",
   "execution_count": 506,
   "id": "6006343b",
   "metadata": {},
   "outputs": [
    {
     "name": "stdout",
     "output_type": "stream",
     "text": [
      "찾는 물건은: coin\n",
      "찾는 물건 있어요\n"
     ]
    }
   ],
   "source": [
    "ob = input('찾는 물건은: ')\n",
    "a = ['paper', 'coin', 'phone']\n",
    "\n",
    "if(ob in a):\n",
    "    print('찾는 물건 있어요')\n",
    "else:\n",
    "    print('찾는 물건 없어요')"
   ]
  },
  {
   "cell_type": "code",
   "execution_count": 507,
   "id": "1152b612",
   "metadata": {},
   "outputs": [
    {
     "name": "stdout",
     "output_type": "stream",
     "text": [
      "점수 입력: 90\n",
      "A\n"
     ]
    }
   ],
   "source": [
    "score = int(input('점수 입력: '))\n",
    "if(score >= 90):\n",
    "    print('A')\n",
    "elif(score >= 80):\n",
    "    print('B')\n",
    "elif(socre >=70):\n",
    "    print('C')\n",
    "else:\n",
    "    print('F')"
   ]
  },
  {
   "cell_type": "code",
   "execution_count": 508,
   "id": "5bfa7e3d",
   "metadata": {},
   "outputs": [
    {
     "name": "stdout",
     "output_type": "stream",
     "text": [
      "166833\n"
     ]
    }
   ],
   "source": [
    "res = 0\n",
    "i = 1\n",
    "\n",
    "while(i < 1001):\n",
    "    if(i % 3 == 0):\n",
    "        res += i\n",
    "    i += 1\n",
    "print(res)\n"
   ]
  },
  {
   "cell_type": "code",
   "execution_count": 509,
   "id": "5ed54f29",
   "metadata": {},
   "outputs": [
    {
     "data": {
      "text/plain": [
       "range(0, 10)"
      ]
     },
     "execution_count": 509,
     "metadata": {},
     "output_type": "execute_result"
    }
   ],
   "source": [
    "range(10)"
   ]
  },
  {
   "cell_type": "code",
   "execution_count": 510,
   "id": "e2481248",
   "metadata": {},
   "outputs": [
    {
     "name": "stdout",
     "output_type": "stream",
     "text": [
      "a\n",
      "b\n",
      "c\n",
      "d\n",
      "e\n"
     ]
    }
   ],
   "source": [
    "li = ['a', 'b', 'c', 'd', 'e']\n",
    "\n",
    "for i in li:\n",
    "    print(i)"
   ]
  },
  {
   "cell_type": "code",
   "execution_count": 511,
   "id": "74912a37",
   "metadata": {},
   "outputs": [
    {
     "name": "stdout",
     "output_type": "stream",
     "text": [
      "790\n",
      "79.0\n"
     ]
    }
   ],
   "source": [
    "a_class = [70, 60, 55, 75, 95, 90, 80, 80, 85, 100]\n",
    "\n",
    "res = 0\n",
    "\n",
    "for i in range(len(a_class)):\n",
    "    res += a_class[i]\n",
    "\n",
    "print(res)\n",
    "print(res/len(a_class))"
   ]
  },
  {
   "cell_type": "code",
   "execution_count": 512,
   "id": "951210f2",
   "metadata": {},
   "outputs": [],
   "source": [
    "def add(a, b):\n",
    "    c = a + b\n",
    "    print(c)"
   ]
  },
  {
   "cell_type": "code",
   "execution_count": 516,
   "id": "759631e9",
   "metadata": {},
   "outputs": [
    {
     "name": "stdout",
     "output_type": "stream",
     "text": [
      "30\n",
      "<class 'NoneType'>\n"
     ]
    }
   ],
   "source": [
    "d = add(10, 20)\n",
    "print(type(d))"
   ]
  },
  {
   "cell_type": "code",
   "execution_count": 526,
   "id": "dcb4709f",
   "metadata": {},
   "outputs": [],
   "source": [
    "def add_many(*args):\n",
    "    print(type(args))\n",
    "    result = 0\n",
    "    for i in args:\n",
    "        result += i\n",
    "    return result"
   ]
  },
  {
   "cell_type": "code",
   "execution_count": 525,
   "id": "44640e7b",
   "metadata": {},
   "outputs": [
    {
     "name": "stdout",
     "output_type": "stream",
     "text": [
      "<class 'tuple'>\n",
      "6\n",
      "<class 'tuple'>\n",
      "15\n"
     ]
    }
   ],
   "source": [
    "print(add_many(1, 2, 3))\n",
    "print(add_many(1, 2, 3, 4, 5))"
   ]
  },
  {
   "cell_type": "code",
   "execution_count": 527,
   "id": "1b38ca29",
   "metadata": {},
   "outputs": [],
   "source": [
    "def sum_and_mul(a, b):\n",
    "    return a + b, a * b"
   ]
  },
  {
   "cell_type": "code",
   "execution_count": 531,
   "id": "06f4477d",
   "metadata": {},
   "outputs": [
    {
     "name": "stdout",
     "output_type": "stream",
     "text": [
      "(7, 12)\n"
     ]
    }
   ],
   "source": [
    "print(sum_and_mul(3, 4))"
   ]
  },
  {
   "cell_type": "code",
   "execution_count": 532,
   "id": "395cf9b9",
   "metadata": {},
   "outputs": [],
   "source": [
    "def myself(a, b, c=True):\n",
    "    print('age', a)\n",
    "    print('name', b)\n",
    "    if c :\n",
    "        print('man')\n",
    "    else:\n",
    "        print('female')"
   ]
  },
  {
   "cell_type": "code",
   "execution_count": 542,
   "id": "843eb0b4",
   "metadata": {},
   "outputs": [
    {
     "name": "stdout",
     "output_type": "stream",
     "text": [
      "age 40\n",
      "name hong\n",
      "female\n",
      "\n",
      "age 30\n",
      "name kim\n",
      "man\n"
     ]
    }
   ],
   "source": [
    "myself(40, 'hong', False)\n",
    "print()\n",
    "myself(30, 'kim')"
   ]
  },
  {
   "cell_type": "code",
   "execution_count": 544,
   "id": "ce7a3e35",
   "metadata": {},
   "outputs": [
    {
     "name": "stdout",
     "output_type": "stream",
     "text": [
      "1\n"
     ]
    }
   ],
   "source": [
    "a = 1\n",
    "\n",
    "def var_test(a):\n",
    "    a = a + 1\n",
    "\n",
    "var_test(a)\n",
    "print(a)"
   ]
  },
  {
   "cell_type": "code",
   "execution_count": 545,
   "id": "35f89625",
   "metadata": {},
   "outputs": [],
   "source": [
    "def is_odd(num):\n",
    "    if(num % 2):\n",
    "        print('odd')\n",
    "    else:\n",
    "        print('even')"
   ]
  },
  {
   "cell_type": "code",
   "execution_count": 549,
   "id": "81b46648",
   "metadata": {},
   "outputs": [
    {
     "name": "stdout",
     "output_type": "stream",
     "text": [
      "even\n"
     ]
    }
   ],
   "source": [
    "is_odd(4)"
   ]
  },
  {
   "cell_type": "code",
   "execution_count": 551,
   "id": "11e2a681",
   "metadata": {},
   "outputs": [
    {
     "name": "stdout",
     "output_type": "stream",
     "text": [
      "7\n"
     ]
    }
   ],
   "source": [
    "prt = lambda a, b: print(a+b)\n",
    "prt(3, 4)"
   ]
  },
  {
   "cell_type": "code",
   "execution_count": 553,
   "id": "3fba735b",
   "metadata": {},
   "outputs": [
    {
     "name": "stdout",
     "output_type": "stream",
     "text": [
      "7\n"
     ]
    }
   ],
   "source": [
    "add = lambda a, b: a + b\n",
    "print(add(3, 4))"
   ]
  },
  {
   "cell_type": "code",
   "execution_count": 589,
   "id": "c8567c46",
   "metadata": {},
   "outputs": [],
   "source": [
    "f = open('0629.txt', 'w')\n",
    "\n",
    "for i in range(1, 11):\n",
    "    data = \"%d번째 줄입니다.\\n\" %i\n",
    "    f.write(data)\n",
    "\n",
    "f.close()"
   ]
  },
  {
   "cell_type": "code",
   "execution_count": 580,
   "id": "5d16972e",
   "metadata": {},
   "outputs": [
    {
     "name": "stdout",
     "output_type": "stream",
     "text": [
      "1번째 줄입니다.\n",
      "\n",
      "2번째 줄입니다.\n",
      "\n",
      "3번째 줄입니다.\n",
      "\n",
      "4번째 줄입니다.\n",
      "\n",
      "5번째 줄입니다.\n",
      "\n",
      "6번째 줄입니다.\n",
      "\n",
      "7번째 줄입니다.\n",
      "\n",
      "8번째 줄입니다.\n",
      "\n",
      "9번째 줄입니다.\n",
      "\n",
      "10번째 줄입니다.\n",
      "\n"
     ]
    }
   ],
   "source": [
    "f = open('0629.txt', 'r')\n",
    "\n",
    "lines = f.readlines()\n",
    "for line in  lines:\n",
    "    print(line)\n",
    "\n",
    "f.close()"
   ]
  },
  {
   "cell_type": "code",
   "execution_count": 584,
   "id": "0a15388b",
   "metadata": {},
   "outputs": [
    {
     "name": "stdout",
     "output_type": "stream",
     "text": [
      "1번째 줄입니다.\n",
      "2번째 줄입니다.\n",
      "3번째 줄입니다.\n",
      "4번째 줄입니다.\n",
      "5번째 줄입니다.\n",
      "6번째 줄입니다.\n",
      "7번째 줄입니다.\n",
      "8번째 줄입니다.\n",
      "9번째 줄입니다.\n",
      "10번째 줄입니다.\n",
      "\n"
     ]
    }
   ],
   "source": [
    "f = open('0629.txt', 'r')\n",
    "\n",
    "data = f.read()\n",
    "print(data)\n",
    "\n",
    "f.close()"
   ]
  },
  {
   "cell_type": "code",
   "execution_count": 591,
   "id": "b7295fc4",
   "metadata": {},
   "outputs": [],
   "source": [
    "f = open('0629.txt', 'a')\n",
    "\n",
    "for i in range(11, 20):\n",
    "    data = \"%d번째 줄입니다.\\n\" % i\n",
    "    f.write(data)\n",
    "\n",
    "f.close()"
   ]
  },
  {
   "cell_type": "code",
   "execution_count": 595,
   "id": "51b92a02",
   "metadata": {},
   "outputs": [
    {
     "name": "stdout",
     "output_type": "stream",
     "text": [
      "1번째 줄입니다.\n",
      "2번째 줄입니다.\n",
      "3번째 줄입니다.\n",
      "4번째 줄입니다.\n",
      "5번째 줄입니다.\n",
      "6번째 줄입니다.\n",
      "7번째 줄입니다.\n",
      "8번째 줄입니다.\n",
      "9번째 줄입니다.\n",
      "10번째 줄입니다.\n",
      "11번째 줄입니다.\n",
      "12번째 줄입니다.\n",
      "13번째 줄입니다.\n",
      "14번째 줄입니다.\n",
      "15번째 줄입니다.\n",
      "16번째 줄입니다.\n",
      "17번째 줄입니다.\n",
      "18번째 줄입니다.\n",
      "19번째 줄입니다.\n",
      "11번째 줄입니다.\n",
      "12번째 줄입니다.\n",
      "13번째 줄입니다.\n",
      "14번째 줄입니다.\n",
      "15번째 줄입니다.\n",
      "16번째 줄입니다.\n",
      "17번째 줄입니다.\n",
      "18번째 줄입니다.\n",
      "19번째 줄입니다.\n",
      "\n"
     ]
    }
   ],
   "source": [
    "with open('0629.txt', 'r') as f:\n",
    "    print(f.read())"
   ]
  },
  {
   "cell_type": "code",
   "execution_count": 625,
   "id": "413d7be1",
   "metadata": {},
   "outputs": [
    {
     "name": "stdout",
     "output_type": "stream",
     "text": [
      "790\n",
      "79.0\n"
     ]
    }
   ],
   "source": [
    "a_class = [70, 60, 55, 75, 95, 90, 80, 80, 85, 100]\n",
    "res = 0\n",
    "n = 0\n",
    "\n",
    "with open('score.txt', 'w') as f:\n",
    "    for i in range(len(a_class)):\n",
    "        f.write(str\n",
    "                (a_class[i]) + '\\n')\n",
    "\n",
    "with open('score.txt', 'r') as f:\n",
    "    while True:\n",
    "        line = f.readline()\n",
    "        if not line : break\n",
    "        res += int(line)\n",
    "        n += 1\n",
    "print(res)\n",
    "print(res/n)\n",
    "            "
   ]
  },
  {
   "cell_type": "code",
   "execution_count": 2,
   "id": "77618c9a",
   "metadata": {},
   "outputs": [],
   "source": [
    "class Student:\n",
    "    name = '홍길동'\n",
    "    \n",
    "    def __init__(self):\n",
    "        print('nothing')\n",
    "    def info(self):\n",
    "        print('제 이름은 ' + self.name + \"입니다. \")"
   ]
  },
  {
   "cell_type": "code",
   "execution_count": 644,
   "id": "40e18bcb",
   "metadata": {},
   "outputs": [
    {
     "name": "stdout",
     "output_type": "stream",
     "text": [
      "nothing\n",
      "제 이름은 홍길동입니다. \n",
      "홍길동\n",
      "2030714508720\n",
      "2030708279120\n"
     ]
    }
   ],
   "source": [
    "a = Student()\n",
    "a.info()\n",
    "print(a.name)\n",
    "print(id(a))\n",
    "print(id(a.name))"
   ]
  },
  {
   "cell_type": "code",
   "execution_count": 646,
   "id": "2d49ec77",
   "metadata": {},
   "outputs": [
    {
     "name": "stdout",
     "output_type": "stream",
     "text": [
      "nothing\n",
      "2030713668608\n",
      "2030708279120\n"
     ]
    }
   ],
   "source": [
    "b = Student()\n",
    "print(id(b))\n",
    "print(id(b.name))"
   ]
  },
  {
   "cell_type": "code",
   "execution_count": 651,
   "id": "ad79f6c6",
   "metadata": {},
   "outputs": [],
   "source": [
    "class University(Student):\n",
    "    major = '컴퓨터공학'\n",
    "    \n",
    "    def intro(self):\n",
    "        print('제 이름은 ' + self.name + '이고 전공은 ' + self.major + '입니다.')"
   ]
  },
  {
   "cell_type": "code",
   "execution_count": 653,
   "id": "971c61f7",
   "metadata": {},
   "outputs": [
    {
     "name": "stdout",
     "output_type": "stream",
     "text": [
      "nothing\n",
      "제 이름은 홍길동입니다. \n",
      "제 이름은 홍길동이고 전공은 컴퓨터공학입니다.\n"
     ]
    }
   ],
   "source": [
    "obj3 = University()\n",
    "obj3.info()\n",
    "obj3.intro()"
   ]
  },
  {
   "cell_type": "code",
   "execution_count": 20,
   "id": "f5eb2a3a",
   "metadata": {},
   "outputs": [
    {
     "data": {
      "text/plain": [
       "2575594910960"
      ]
     },
     "execution_count": 20,
     "metadata": {},
     "output_type": "execute_result"
    }
   ],
   "source": []
  }
 ],
 "metadata": {
  "kernelspec": {
   "display_name": "Python 3",
   "language": "python",
   "name": "python3"
  },
  "language_info": {
   "codemirror_mode": {
    "name": "ipython",
    "version": 3
   },
   "file_extension": ".py",
   "mimetype": "text/x-python",
   "name": "python",
   "nbconvert_exporter": "python",
   "pygments_lexer": "ipython3",
   "version": "3.8.8"
  }
 },
 "nbformat": 4,
 "nbformat_minor": 5
}
