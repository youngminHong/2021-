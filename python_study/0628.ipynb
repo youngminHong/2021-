{
 "cells": [
  {
   "cell_type": "markdown",
   "id": "addc4c20",
   "metadata": {},
   "source": [
    "a -> above cell\n",
    "dd -> delete cell\n",
    "b -> below cell\n",
    "shift + enter -> run and next codeline"
   ]
  },
  {
   "cell_type": "markdown",
   "id": "97caf1a1",
   "metadata": {},
   "source": [
    "# 글자크기\n",
    "## 줄여볼까\n",
    "### 신기하네"
   ]
  },
  {
   "cell_type": "code",
   "execution_count": 8,
   "id": "666b149d",
   "metadata": {},
   "outputs": [
    {
     "data": {
      "text/plain": [
       "'pythonpythonpython'"
      ]
     },
     "execution_count": 8,
     "metadata": {},
     "output_type": "execute_result"
    }
   ],
   "source": [
    "'python'*3"
   ]
  },
  {
   "cell_type": "code",
   "execution_count": 7,
   "id": "f81c513a",
   "metadata": {},
   "outputs": [
    {
     "data": {
      "text/plain": [
       "'python\\nis good'"
      ]
     },
     "execution_count": 7,
     "metadata": {},
     "output_type": "execute_result"
    }
   ],
   "source": [
    "'''python\n",
    "is good'''"
   ]
  },
  {
   "cell_type": "code",
   "execution_count": 10,
   "id": "0d220664",
   "metadata": {},
   "outputs": [],
   "source": [
    "str = 'hello world!'"
   ]
  },
  {
   "cell_type": "code",
   "execution_count": 11,
   "id": "738bbd9c",
   "metadata": {},
   "outputs": [
    {
     "data": {
      "text/plain": [
       "12"
      ]
     },
     "execution_count": 11,
     "metadata": {},
     "output_type": "execute_result"
    }
   ],
   "source": [
    "len(str)"
   ]
  },
  {
   "cell_type": "code",
   "execution_count": 17,
   "id": "314ea33a",
   "metadata": {},
   "outputs": [
    {
     "name": "stdout",
     "output_type": "stream",
     "text": [
      "o w\n",
      "llo world!\n",
      "hello\n",
      "r\n"
     ]
    }
   ],
   "source": [
    "print(str[4:7])\n",
    "print(str[2:])\n",
    "print(str[:5])\n",
    "print(str[-4])"
   ]
  },
  {
   "cell_type": "code",
   "execution_count": 18,
   "id": "c2250e9f",
   "metadata": {},
   "outputs": [],
   "source": [
    "# 문자열 formating\n",
    "\n",
    "name = 'hong'\n",
    "age = 25"
   ]
  },
  {
   "cell_type": "code",
   "execution_count": 25,
   "id": "c071bbf6",
   "metadata": {},
   "outputs": [
    {
     "name": "stdout",
     "output_type": "stream",
     "text": [
      "name is hong age is 25\n",
      "name is hong age is 25\n",
      "name is hong age is 25\n"
     ]
    }
   ],
   "source": [
    "print('name is %s age is %d' %(name, age))\n",
    "\n",
    "# 정수형 변수 %s로 포매팅 가능.. 범용성 높다..\n",
    "print('name is %s age is %s' %(name, age))\n",
    "\n",
    "# f 문자열 포매팅..\n",
    "print(f'name is {name} age is {age}')"
   ]
  },
  {
   "cell_type": "code",
   "execution_count": 30,
   "id": "128751d7",
   "metadata": {},
   "outputs": [
    {
     "data": {
      "text/plain": [
       "1"
      ]
     },
     "execution_count": 30,
     "metadata": {},
     "output_type": "execute_result"
    }
   ],
   "source": [
    "str.count('h')"
   ]
  },
  {
   "cell_type": "code",
   "execution_count": 34,
   "id": "1525972c",
   "metadata": {},
   "outputs": [
    {
     "data": {
      "text/plain": [
       "2"
      ]
     },
     "execution_count": 34,
     "metadata": {},
     "output_type": "execute_result"
    }
   ],
   "source": [
    "str.find('l')"
   ]
  },
  {
   "cell_type": "code",
   "execution_count": 35,
   "id": "2eb63aac",
   "metadata": {},
   "outputs": [
    {
     "data": {
      "text/plain": [
       "-1"
      ]
     },
     "execution_count": 35,
     "metadata": {},
     "output_type": "execute_result"
    }
   ],
   "source": [
    "str.find('k')"
   ]
  },
  {
   "cell_type": "code",
   "execution_count": 36,
   "id": "a0a04e7b",
   "metadata": {},
   "outputs": [
    {
     "data": {
      "text/plain": [
       "2"
      ]
     },
     "execution_count": 36,
     "metadata": {},
     "output_type": "execute_result"
    }
   ],
   "source": [
    "str.index('l')"
   ]
  },
  {
   "cell_type": "code",
   "execution_count": 39,
   "id": "1143c851",
   "metadata": {},
   "outputs": [
    {
     "data": {
      "text/plain": [
       "['he', ' world!']"
      ]
     },
     "execution_count": 39,
     "metadata": {},
     "output_type": "execute_result"
    }
   ],
   "source": [
    "str.split('llo')"
   ]
  },
  {
   "cell_type": "code",
   "execution_count": 42,
   "id": "f086c17a",
   "metadata": {},
   "outputs": [
    {
     "data": {
      "text/plain": [
       "['hello', 'world!']"
      ]
     },
     "execution_count": 42,
     "metadata": {},
     "output_type": "execute_result"
    }
   ],
   "source": [
    "str.split()"
   ]
  },
  {
   "cell_type": "code",
   "execution_count": 43,
   "id": "d51a099e",
   "metadata": {},
   "outputs": [],
   "source": [
    "lst = str.split()"
   ]
  },
  {
   "cell_type": "code",
   "execution_count": 44,
   "id": "03967a59",
   "metadata": {},
   "outputs": [
    {
     "name": "stdout",
     "output_type": "stream",
     "text": [
      "['hello', 'world!']\n"
     ]
    }
   ],
   "source": [
    "print(lst)"
   ]
  },
  {
   "cell_type": "code",
   "execution_count": 47,
   "id": "4f8c185d",
   "metadata": {},
   "outputs": [
    {
     "data": {
      "text/plain": [
       "'world!'"
      ]
     },
     "execution_count": 47,
     "metadata": {},
     "output_type": "execute_result"
    }
   ],
   "source": [
    "lst[1]"
   ]
  },
  {
   "cell_type": "code",
   "execution_count": 49,
   "id": "023a2bda",
   "metadata": {},
   "outputs": [
    {
     "name": "stdout",
     "output_type": "stream",
     "text": [
      "my name is hong\n"
     ]
    }
   ],
   "source": [
    "print('my name', 'is', name)"
   ]
  },
  {
   "cell_type": "code",
   "execution_count": 56,
   "id": "37101152",
   "metadata": {},
   "outputs": [
    {
     "name": "stdout",
     "output_type": "stream",
     "text": [
      "1234\n"
     ]
    }
   ],
   "source": [
    "a = input()"
   ]
  },
  {
   "cell_type": "code",
   "execution_count": 51,
   "id": "cf1da88b",
   "metadata": {},
   "outputs": [
    {
     "data": {
      "text/plain": [
       "str"
      ]
     },
     "execution_count": 51,
     "metadata": {},
     "output_type": "execute_result"
    }
   ],
   "source": [
    "type(a)"
   ]
  },
  {
   "cell_type": "code",
   "execution_count": 60,
   "id": "e0a7be87",
   "metadata": {},
   "outputs": [
    {
     "data": {
      "text/plain": [
       "int"
      ]
     },
     "execution_count": 60,
     "metadata": {},
     "output_type": "execute_result"
    }
   ],
   "source": [
    "type(int(a))"
   ]
  },
  {
   "cell_type": "code",
   "execution_count": 66,
   "id": "7fde961e",
   "metadata": {},
   "outputs": [
    {
     "name": "stdout",
     "output_type": "stream",
     "text": [
      "이름과 주소 입력: 홍길동 창원\n"
     ]
    }
   ],
   "source": [
    "name, address = input('이름과 주소 입력: ').split()"
   ]
  },
  {
   "cell_type": "code",
   "execution_count": 67,
   "id": "1f8e8b94",
   "metadata": {},
   "outputs": [
    {
     "name": "stdout",
     "output_type": "stream",
     "text": [
      "홍길동\n",
      "창원\n"
     ]
    }
   ],
   "source": [
    "print(name)\n",
    "print(address)"
   ]
  },
  {
   "cell_type": "code",
   "execution_count": 68,
   "id": "e65e05e5",
   "metadata": {},
   "outputs": [
    {
     "name": "stdout",
     "output_type": "stream",
     "text": [
      "1\n",
      "1\n"
     ]
    }
   ],
   "source": [
    "a=b=1\n",
    "print(a)\n",
    "print(b)"
   ]
  },
  {
   "cell_type": "code",
   "execution_count": null,
   "id": "020451a5",
   "metadata": {},
   "outputs": [],
   "source": [
    "age, grade = map(int, input('나이, 학년(정수입력): ').split())\n",
    "print(age, grade)"
   ]
  },
  {
   "cell_type": "code",
   "execution_count": null,
   "id": "390f8623",
   "metadata": {},
   "outputs": [],
   "source": []
  }
 ],
 "metadata": {
  "kernelspec": {
   "display_name": "Python 3",
   "language": "python",
   "name": "python3"
  },
  "language_info": {
   "codemirror_mode": {
    "name": "ipython",
    "version": 3
   },
   "file_extension": ".py",
   "mimetype": "text/x-python",
   "name": "python",
   "nbconvert_exporter": "python",
   "pygments_lexer": "ipython3",
   "version": "3.8.8"
  }
 },
 "nbformat": 4,
 "nbformat_minor": 5
}
