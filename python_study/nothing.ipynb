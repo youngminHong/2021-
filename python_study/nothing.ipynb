{
 "cells": [
  {
   "cell_type": "code",
   "execution_count": 19,
   "id": "448038d6",
   "metadata": {},
   "outputs": [],
   "source": [
    "class Customer:\n",
    "    amnt = 0\n",
    "    \n",
    "    def order_add(self, cash):\n",
    "        self.amnt += cash\n",
    "    \n",
    "    def pay_cash(self, cash):\n",
    "        return cash - self.amnt"
   ]
  },
  {
   "cell_type": "code",
   "execution_count": 20,
   "id": "051133b4",
   "metadata": {},
   "outputs": [
    {
     "name": "stdout",
     "output_type": "stream",
     "text": [
      "주문하려면 1 계산하려면 0 입력: 1\n",
      "무슨 메뉴?짜장면\n",
      "몇 개 주문할래?3\n",
      "주문하려면 1 계산하려면 0 입력: 1\n",
      "무슨 메뉴?짬뽕\n",
      "몇 개 주문할래?2\n",
      "주문하려면 1 계산하려면 0 입력: 0\n",
      "카드 0, 현금 1 입력: 1\n",
      "얼마 지불할거야?50000\n",
      "잔액은 23000 입니다\n"
     ]
    }
   ],
   "source": [
    "menu_dic = {'짜장면': 5000, '짬뽕': 6000, '볶음밥': 6000, '탕수육': 10000}\n",
    "\n",
    "obj1 = Customer()\n",
    "\n",
    "\n",
    "while True:\n",
    "    start = input('주문하려면 1 계산하려면 0 입력: ')\n",
    "    if(int(start) == 0):\n",
    "        break\n",
    "    else:\n",
    "        obj_order = menu_dic[input('무슨 메뉴?')]\n",
    "        n = int(input('몇 개 주문할래?'))\n",
    "        obj1.order_add(obj_order*n)\n",
    "what_pay = input('카드 0, 현금 1 입력: ')\n",
    "if(what_pay == 0):\n",
    "    print('결제가 완료되었습니다. 다음에 또 오세요!')\n",
    "else:\n",
    "    how_pay = int(input('얼마 지불할거야?'))\n",
    "    print('잔액은 %d 입니다' %obj1.pay_cash(how_pay))"
   ]
  },
  {
   "cell_type": "code",
   "execution_count": null,
   "id": "96e19793",
   "metadata": {},
   "outputs": [],
   "source": []
  },
  {
   "cell_type": "code",
   "execution_count": null,
   "id": "93c4badf",
   "metadata": {},
   "outputs": [],
   "source": []
  },
  {
   "cell_type": "code",
   "execution_count": null,
   "id": "1d3bca2f",
   "metadata": {},
   "outputs": [],
   "source": []
  },
  {
   "cell_type": "code",
   "execution_count": 9,
   "id": "7a2bc6a0",
   "metadata": {},
   "outputs": [
    {
     "name": "stdout",
     "output_type": "stream",
     "text": [
      "0\n",
      "1\n"
     ]
    }
   ],
   "source": [
    "class Nothing1:\n",
    "    x =0\n",
    "        \n",
    "class Nothing2:\n",
    "    def add(self):\n",
    "        Nothing1.x += 1\n",
    "        \n",
    "    \n",
    "obj2 = Nothing2()\n",
    "\n",
    "print(Nothing1.x)\n",
    "obj2.add()\n",
    "\n",
    "print(Nothing1.x)"
   ]
  }
 ],
 "metadata": {
  "kernelspec": {
   "display_name": "Python 3",
   "language": "python",
   "name": "python3"
  },
  "language_info": {
   "codemirror_mode": {
    "name": "ipython",
    "version": 3
   },
   "file_extension": ".py",
   "mimetype": "text/x-python",
   "name": "python",
   "nbconvert_exporter": "python",
   "pygments_lexer": "ipython3",
   "version": "3.8.8"
  }
 },
 "nbformat": 4,
 "nbformat_minor": 5
}
